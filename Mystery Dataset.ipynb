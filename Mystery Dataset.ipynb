{
 "cells": [
  {
   "cell_type": "markdown",
   "metadata": {},
   "source": [
    "#  Mystery Dataset"
   ]
  },
  {
   "cell_type": "code",
   "execution_count": 8,
   "metadata": {},
   "outputs": [
    {
     "data": {
      "text/html": [
       "<div>\n",
       "<style scoped>\n",
       "    .dataframe tbody tr th:only-of-type {\n",
       "        vertical-align: middle;\n",
       "    }\n",
       "\n",
       "    .dataframe tbody tr th {\n",
       "        vertical-align: top;\n",
       "    }\n",
       "\n",
       "    .dataframe thead th {\n",
       "        text-align: right;\n",
       "    }\n",
       "</style>\n",
       "<table border=\"1\" class=\"dataframe\">\n",
       "  <thead>\n",
       "    <tr style=\"text-align: right;\">\n",
       "      <th></th>\n",
       "      <th>x1</th>\n",
       "      <th>y1</th>\n",
       "      <th>x2</th>\n",
       "      <th>y2</th>\n",
       "      <th>x3</th>\n",
       "      <th>y3</th>\n",
       "      <th>x4</th>\n",
       "      <th>y4</th>\n",
       "      <th>x5</th>\n",
       "      <th>y5</th>\n",
       "      <th>x6</th>\n",
       "      <th>y6</th>\n",
       "    </tr>\n",
       "  </thead>\n",
       "  <tbody>\n",
       "    <tr>\n",
       "      <th>0</th>\n",
       "      <td>32.331110</td>\n",
       "      <td>61.411101</td>\n",
       "      <td>51.203891</td>\n",
       "      <td>83.339777</td>\n",
       "      <td>55.993030</td>\n",
       "      <td>79.277264</td>\n",
       "      <td>55.3846</td>\n",
       "      <td>97.1795</td>\n",
       "      <td>58.213608</td>\n",
       "      <td>91.881892</td>\n",
       "      <td>38.337757</td>\n",
       "      <td>92.472719</td>\n",
       "    </tr>\n",
       "    <tr>\n",
       "      <th>1</th>\n",
       "      <td>53.421463</td>\n",
       "      <td>26.186880</td>\n",
       "      <td>58.974470</td>\n",
       "      <td>85.499818</td>\n",
       "      <td>50.032254</td>\n",
       "      <td>79.013071</td>\n",
       "      <td>51.5385</td>\n",
       "      <td>96.0256</td>\n",
       "      <td>58.196054</td>\n",
       "      <td>92.214989</td>\n",
       "      <td>35.751871</td>\n",
       "      <td>94.116768</td>\n",
       "    </tr>\n",
       "    <tr>\n",
       "      <th>2</th>\n",
       "      <td>63.920202</td>\n",
       "      <td>30.832194</td>\n",
       "      <td>51.872073</td>\n",
       "      <td>85.829738</td>\n",
       "      <td>51.288459</td>\n",
       "      <td>82.435940</td>\n",
       "      <td>46.1538</td>\n",
       "      <td>94.4872</td>\n",
       "      <td>58.718231</td>\n",
       "      <td>90.310532</td>\n",
       "      <td>32.767218</td>\n",
       "      <td>88.518295</td>\n",
       "    </tr>\n",
       "    <tr>\n",
       "      <th>3</th>\n",
       "      <td>70.289506</td>\n",
       "      <td>82.533649</td>\n",
       "      <td>48.179931</td>\n",
       "      <td>85.045117</td>\n",
       "      <td>51.170537</td>\n",
       "      <td>79.165294</td>\n",
       "      <td>42.8205</td>\n",
       "      <td>91.4103</td>\n",
       "      <td>57.278373</td>\n",
       "      <td>89.907607</td>\n",
       "      <td>33.729607</td>\n",
       "      <td>88.622266</td>\n",
       "    </tr>\n",
       "    <tr>\n",
       "      <th>4</th>\n",
       "      <td>34.118830</td>\n",
       "      <td>45.734551</td>\n",
       "      <td>41.683200</td>\n",
       "      <td>84.017941</td>\n",
       "      <td>44.377915</td>\n",
       "      <td>78.164628</td>\n",
       "      <td>40.7692</td>\n",
       "      <td>88.3333</td>\n",
       "      <td>58.082020</td>\n",
       "      <td>92.008145</td>\n",
       "      <td>37.238249</td>\n",
       "      <td>83.724928</td>\n",
       "    </tr>\n",
       "  </tbody>\n",
       "</table>\n",
       "</div>"
      ],
      "text/plain": [
       "          x1         y1         x2         y2         x3         y3       x4  \\\n",
       "0  32.331110  61.411101  51.203891  83.339777  55.993030  79.277264  55.3846   \n",
       "1  53.421463  26.186880  58.974470  85.499818  50.032254  79.013071  51.5385   \n",
       "2  63.920202  30.832194  51.872073  85.829738  51.288459  82.435940  46.1538   \n",
       "3  70.289506  82.533649  48.179931  85.045117  51.170537  79.165294  42.8205   \n",
       "4  34.118830  45.734551  41.683200  84.017941  44.377915  78.164628  40.7692   \n",
       "\n",
       "        y4         x5         y5         x6         y6  \n",
       "0  97.1795  58.213608  91.881892  38.337757  92.472719  \n",
       "1  96.0256  58.196054  92.214989  35.751871  94.116768  \n",
       "2  94.4872  58.718231  90.310532  32.767218  88.518295  \n",
       "3  91.4103  57.278373  89.907607  33.729607  88.622266  \n",
       "4  88.3333  58.082020  92.008145  37.238249  83.724928  "
      ]
     },
     "execution_count": 8,
     "metadata": {},
     "output_type": "execute_result"
    }
   ],
   "source": [
    "import pandas as pd\n",
    "mystery = pd.read_csv(\"mystery.csv\",header = 0,sep = ',')\n",
    "mystery.head()"
   ]
  },
  {
   "cell_type": "code",
   "execution_count": 9,
   "metadata": {},
   "outputs": [
    {
     "name": "stdout",
     "output_type": "stream",
     "text": [
      "Jini\ttaimei\n"
     ]
    }
   ],
   "source": [
    "print(\"Jini\\ttaimei\") # \\ is an escape character"
   ]
  },
  {
   "cell_type": "code",
   "execution_count": 10,
   "metadata": {},
   "outputs": [
    {
     "name": "stdout",
     "output_type": "stream",
     "text": [
      "Sao\n",
      "Niu\n"
     ]
    }
   ],
   "source": [
    "print(\"Sao\\nNiu\")"
   ]
  },
  {
   "cell_type": "code",
   "execution_count": 11,
   "metadata": {},
   "outputs": [
    {
     "data": {
      "text/plain": [
       "(142, 12)"
      ]
     },
     "execution_count": 11,
     "metadata": {},
     "output_type": "execute_result"
    }
   ],
   "source": [
    "mystery.shape"
   ]
  },
  {
   "cell_type": "code",
   "execution_count": 12,
   "metadata": {},
   "outputs": [
    {
     "data": {
      "text/html": [
       "<div>\n",
       "<style scoped>\n",
       "    .dataframe tbody tr th:only-of-type {\n",
       "        vertical-align: middle;\n",
       "    }\n",
       "\n",
       "    .dataframe tbody tr th {\n",
       "        vertical-align: top;\n",
       "    }\n",
       "\n",
       "    .dataframe thead th {\n",
       "        text-align: right;\n",
       "    }\n",
       "</style>\n",
       "<table border=\"1\" class=\"dataframe\">\n",
       "  <thead>\n",
       "    <tr style=\"text-align: right;\">\n",
       "      <th></th>\n",
       "      <th>x1</th>\n",
       "      <th>y1</th>\n",
       "      <th>x2</th>\n",
       "      <th>y2</th>\n",
       "      <th>x3</th>\n",
       "      <th>y3</th>\n",
       "      <th>x4</th>\n",
       "      <th>y4</th>\n",
       "      <th>x5</th>\n",
       "      <th>y5</th>\n",
       "      <th>x6</th>\n",
       "      <th>y6</th>\n",
       "    </tr>\n",
       "  </thead>\n",
       "  <tbody>\n",
       "    <tr>\n",
       "      <th>count</th>\n",
       "      <td>142.000000</td>\n",
       "      <td>142.000000</td>\n",
       "      <td>142.000000</td>\n",
       "      <td>142.000000</td>\n",
       "      <td>142.000000</td>\n",
       "      <td>142.000000</td>\n",
       "      <td>142.000000</td>\n",
       "      <td>142.000000</td>\n",
       "      <td>142.000000</td>\n",
       "      <td>142.000000</td>\n",
       "      <td>142.000000</td>\n",
       "      <td>142.000000</td>\n",
       "    </tr>\n",
       "    <tr>\n",
       "      <th>mean</th>\n",
       "      <td>54.266100</td>\n",
       "      <td>47.834721</td>\n",
       "      <td>54.268730</td>\n",
       "      <td>47.830823</td>\n",
       "      <td>54.267320</td>\n",
       "      <td>47.837717</td>\n",
       "      <td>54.263273</td>\n",
       "      <td>47.832253</td>\n",
       "      <td>54.267341</td>\n",
       "      <td>47.839545</td>\n",
       "      <td>54.260150</td>\n",
       "      <td>47.839717</td>\n",
       "    </tr>\n",
       "    <tr>\n",
       "      <th>std</th>\n",
       "      <td>16.769825</td>\n",
       "      <td>26.939743</td>\n",
       "      <td>16.769239</td>\n",
       "      <td>26.935727</td>\n",
       "      <td>16.760013</td>\n",
       "      <td>26.930036</td>\n",
       "      <td>16.765142</td>\n",
       "      <td>26.935403</td>\n",
       "      <td>16.768959</td>\n",
       "      <td>26.930275</td>\n",
       "      <td>16.769958</td>\n",
       "      <td>26.930002</td>\n",
       "    </tr>\n",
       "    <tr>\n",
       "      <th>min</th>\n",
       "      <td>15.560750</td>\n",
       "      <td>0.015119</td>\n",
       "      <td>19.288205</td>\n",
       "      <td>9.691547</td>\n",
       "      <td>21.863581</td>\n",
       "      <td>16.326546</td>\n",
       "      <td>22.307700</td>\n",
       "      <td>2.948700</td>\n",
       "      <td>27.024603</td>\n",
       "      <td>14.365590</td>\n",
       "      <td>31.106867</td>\n",
       "      <td>4.577661</td>\n",
       "    </tr>\n",
       "    <tr>\n",
       "      <th>25%</th>\n",
       "      <td>39.724115</td>\n",
       "      <td>24.625892</td>\n",
       "      <td>41.627968</td>\n",
       "      <td>26.244735</td>\n",
       "      <td>43.379116</td>\n",
       "      <td>18.349610</td>\n",
       "      <td>44.102600</td>\n",
       "      <td>25.288450</td>\n",
       "      <td>41.034210</td>\n",
       "      <td>20.374135</td>\n",
       "      <td>40.091656</td>\n",
       "      <td>23.470809</td>\n",
       "    </tr>\n",
       "    <tr>\n",
       "      <th>50%</th>\n",
       "      <td>53.340296</td>\n",
       "      <td>47.535269</td>\n",
       "      <td>53.842088</td>\n",
       "      <td>47.382937</td>\n",
       "      <td>54.023213</td>\n",
       "      <td>51.025022</td>\n",
       "      <td>53.333300</td>\n",
       "      <td>46.025600</td>\n",
       "      <td>56.534732</td>\n",
       "      <td>50.110554</td>\n",
       "      <td>47.136458</td>\n",
       "      <td>39.876211</td>\n",
       "    </tr>\n",
       "    <tr>\n",
       "      <th>75%</th>\n",
       "      <td>69.146597</td>\n",
       "      <td>71.803148</td>\n",
       "      <td>64.798900</td>\n",
       "      <td>72.532852</td>\n",
       "      <td>64.972672</td>\n",
       "      <td>77.782382</td>\n",
       "      <td>64.743600</td>\n",
       "      <td>68.525675</td>\n",
       "      <td>68.711493</td>\n",
       "      <td>63.548584</td>\n",
       "      <td>71.856923</td>\n",
       "      <td>73.609634</td>\n",
       "    </tr>\n",
       "    <tr>\n",
       "      <th>max</th>\n",
       "      <td>91.639961</td>\n",
       "      <td>97.475771</td>\n",
       "      <td>91.735539</td>\n",
       "      <td>85.876229</td>\n",
       "      <td>85.664761</td>\n",
       "      <td>85.578134</td>\n",
       "      <td>98.205100</td>\n",
       "      <td>99.487200</td>\n",
       "      <td>86.435897</td>\n",
       "      <td>92.214989</td>\n",
       "      <td>85.446186</td>\n",
       "      <td>97.837615</td>\n",
       "    </tr>\n",
       "  </tbody>\n",
       "</table>\n",
       "</div>"
      ],
      "text/plain": [
       "               x1          y1          x2          y2          x3          y3  \\\n",
       "count  142.000000  142.000000  142.000000  142.000000  142.000000  142.000000   \n",
       "mean    54.266100   47.834721   54.268730   47.830823   54.267320   47.837717   \n",
       "std     16.769825   26.939743   16.769239   26.935727   16.760013   26.930036   \n",
       "min     15.560750    0.015119   19.288205    9.691547   21.863581   16.326546   \n",
       "25%     39.724115   24.625892   41.627968   26.244735   43.379116   18.349610   \n",
       "50%     53.340296   47.535269   53.842088   47.382937   54.023213   51.025022   \n",
       "75%     69.146597   71.803148   64.798900   72.532852   64.972672   77.782382   \n",
       "max     91.639961   97.475771   91.735539   85.876229   85.664761   85.578134   \n",
       "\n",
       "               x4          y4          x5          y5          x6          y6  \n",
       "count  142.000000  142.000000  142.000000  142.000000  142.000000  142.000000  \n",
       "mean    54.263273   47.832253   54.267341   47.839545   54.260150   47.839717  \n",
       "std     16.765142   26.935403   16.768959   26.930275   16.769958   26.930002  \n",
       "min     22.307700    2.948700   27.024603   14.365590   31.106867    4.577661  \n",
       "25%     44.102600   25.288450   41.034210   20.374135   40.091656   23.470809  \n",
       "50%     53.333300   46.025600   56.534732   50.110554   47.136458   39.876211  \n",
       "75%     64.743600   68.525675   68.711493   63.548584   71.856923   73.609634  \n",
       "max     98.205100   99.487200   86.435897   92.214989   85.446186   97.837615  "
      ]
     },
     "execution_count": 12,
     "metadata": {},
     "output_type": "execute_result"
    }
   ],
   "source": [
    "mystery.describe() #Basic Stastics"
   ]
  },
  {
   "cell_type": "code",
   "execution_count": 14,
   "metadata": {},
   "outputs": [
    {
     "data": {
      "text/plain": [
       "x1    54.266100\n",
       "x2    54.268730\n",
       "x3    54.267320\n",
       "x4    54.263273\n",
       "x5    54.267341\n",
       "x6    54.260150\n",
       "dtype: float64"
      ]
     },
     "execution_count": 14,
     "metadata": {},
     "output_type": "execute_result"
    }
   ],
   "source": [
    "### Find the mean and the standard deviation for all x's\n",
    "# data.iloc[:,start:end:step]\n",
    "mystery_x_avg = mystery.iloc[:,::2].mean()\n",
    "mystery_x_avg"
   ]
  },
  {
   "cell_type": "code",
   "execution_count": 15,
   "metadata": {},
   "outputs": [
    {
     "data": {
      "text/plain": [
       "x1    54.266100\n",
       "x2    54.268730\n",
       "x3    54.267320\n",
       "x4    54.263273\n",
       "x5    54.267341\n",
       "x6    54.260150\n",
       "Name: mean, dtype: float64"
      ]
     },
     "execution_count": 15,
     "metadata": {},
     "output_type": "execute_result"
    }
   ],
   "source": [
    "### OR\n",
    "mystery.describe().iloc[1,::2]"
   ]
  },
  {
   "cell_type": "code",
   "execution_count": 16,
   "metadata": {},
   "outputs": [
    {
     "data": {
      "text/plain": [
       "x1    16.769825\n",
       "x2    16.769239\n",
       "x3    16.760013\n",
       "x4    16.765142\n",
       "x5    16.768959\n",
       "x6    16.769958\n",
       "dtype: float64"
      ]
     },
     "execution_count": 16,
     "metadata": {},
     "output_type": "execute_result"
    }
   ],
   "source": [
    "mystery_x_std = mystery.iloc[:,::2].std()\n",
    "mystery_x_std"
   ]
  },
  {
   "cell_type": "code",
   "execution_count": 17,
   "metadata": {},
   "outputs": [
    {
     "data": {
      "text/plain": [
       "y1    47.834721\n",
       "y2    47.830823\n",
       "y3    47.837717\n",
       "y4    47.832253\n",
       "y5    47.839545\n",
       "y6    47.839717\n",
       "dtype: float64"
      ]
     },
     "execution_count": 17,
     "metadata": {},
     "output_type": "execute_result"
    }
   ],
   "source": [
    "mystery_y_avg = mystery.iloc[:,1::2].mean()\n",
    "mystery_y_avg"
   ]
  },
  {
   "cell_type": "code",
   "execution_count": 18,
   "metadata": {},
   "outputs": [
    {
     "data": {
      "text/plain": [
       "y1    26.939743\n",
       "y2    26.935727\n",
       "y3    26.930036\n",
       "y4    26.935403\n",
       "y5    26.930275\n",
       "y6    26.930002\n",
       "dtype: float64"
      ]
     },
     "execution_count": 18,
     "metadata": {},
     "output_type": "execute_result"
    }
   ],
   "source": [
    "mystery_y_std = mystery.iloc[:,1::2].std()\n",
    "mystery_y_std "
   ]
  },
  {
   "cell_type": "code",
   "execution_count": 19,
   "metadata": {},
   "outputs": [
    {
     "data": {
      "text/plain": [
       "-0.0641283521673984"
      ]
     },
     "execution_count": 19,
     "metadata": {},
     "output_type": "execute_result"
    }
   ],
   "source": [
    "### Find the correlation between x1 and y1\n",
    "mystery_corr = mystery.iloc[:,0].corr(mystery.iloc[:,1])\n",
    "#OR mystery.x1(y1)\n",
    "mystery_corr"
   ]
  },
  {
   "cell_type": "code",
   "execution_count": 20,
   "metadata": {},
   "outputs": [
    {
     "name": "stdout",
     "output_type": "stream",
     "text": [
      "-0.0641283521673984\n",
      "0.029011194016940887\n",
      "-0.06858639424107654\n",
      "-0.08711397150817053\n",
      "-0.06834335648025566\n",
      "-0.03053781840155601\n"
     ]
    }
   ],
   "source": [
    "#mystery.corr()\n",
    "#WRONG\n",
    "for i in range(6):\n",
    "    print(mystery.iloc[:,i].corr(mystery.iloc[:,i+1]))\n"
   ]
  },
  {
   "cell_type": "code",
   "execution_count": 21,
   "metadata": {},
   "outputs": [
    {
     "name": "stdout",
     "output_type": "stream",
     "text": [
      "-0.0641283521673984\n",
      "-0.06858639424107654\n",
      "-0.06834335648025566\n",
      "-0.06447185270095167\n",
      "-0.06296110022065418\n",
      "-0.06558333729297583\n"
     ]
    }
   ],
   "source": [
    "## WHILE LOOP\n",
    "\n",
    "j=0\n",
    "while j < 12:\n",
    "    print(mystery.iloc[:,j].corr(mystery.iloc[:,j+1]))\n",
    "    j = j + 2"
   ]
  },
  {
   "cell_type": "markdown",
   "metadata": {},
   "source": [
    "## Visual EDA"
   ]
  },
  {
   "cell_type": "code",
   "execution_count": 22,
   "metadata": {},
   "outputs": [],
   "source": [
    "import matplotlib.pyplot as plt"
   ]
  },
  {
   "cell_type": "code",
   "execution_count": 23,
   "metadata": {},
   "outputs": [
    {
     "data": {
      "image/png": "[encoded data removed]",
      "text/plain": [
       "<Figure size 432x288 with 1 Axes>"
      ]
     },
     "metadata": {
      "needs_background": "light"
     },
     "output_type": "display_data"
    }
   ],
   "source": [
    "#Anscombe(INTERVIEW : Why EDA is important?)\n",
    "plt.figure()\n",
    "plt.plot(mystery.x1,mystery.y1,\"o\")\n",
    "plt.show()\n",
    "#\"o\",\"x\",\"<\",\">\""
   ]
  },
  {
   "cell_type": "code",
   "execution_count": 24,
   "metadata": {},
   "outputs": [
    {
     "data": {
      "image/png": "[encoded data removed]",
      "text/plain": [
       "<Figure size 432x288 with 1 Axes>"
      ]
     },
     "metadata": {
      "needs_background": "light"
     },
     "output_type": "display_data"
    }
   ],
   "source": [
    "plt.figure()\n",
    "plt.plot(mystery.x2,mystery.y2,\"o\")\n",
    "plt.show()"
   ]
  },
  {
   "cell_type": "code",
   "execution_count": 25,
   "metadata": {},
   "outputs": [
    {
     "data": {
      "image/png": "[encoded data removed]",
      "text/plain": [
       "<Figure size 432x288 with 1 Axes>"
      ]
     },
     "metadata": {
      "needs_background": "light"
     },
     "output_type": "display_data"
    }
   ],
   "source": [
    "plt.figure()\n",
    "plt.plot(mystery.x3,mystery.y3,\"o\")\n",
    "plt.show()"
   ]
  },
  {
   "cell_type": "code",
   "execution_count": 26,
   "metadata": {},
   "outputs": [
    {
     "data": {
      "image/png": "[encoded data removed]",
      "text/plain": [
       "<Figure size 432x288 with 1 Axes>"
      ]
     },
     "metadata": {
      "needs_background": "light"
     },
     "output_type": "display_data"
    }
   ],
   "source": [
    "plt.figure()\n",
    "plt.plot(mystery.x4,mystery.y4,\"o\")\n",
    "plt.show()"
   ]
  },
  {
   "cell_type": "code",
   "execution_count": 27,
   "metadata": {},
   "outputs": [
    {
     "data": {
      "image/png": "[encoded data removed]",
      "text/plain": [
       "<Figure size 432x288 with 1 Axes>"
      ]
     },
     "metadata": {
      "needs_background": "light"
     },
     "output_type": "display_data"
    }
   ],
   "source": [
    "plt.figure()\n",
    "plt.plot(mystery.x5,mystery.y5,\"o\")\n",
    "plt.show()"
   ]
  },
  {
   "cell_type": "code",
   "execution_count": 28,
   "metadata": {},
   "outputs": [
    {
     "data": {
      "image/png": "[encoded data removed]",
      "text/plain": [
       "<Figure size 432x288 with 1 Axes>"
      ]
     },
     "metadata": {
      "needs_background": "light"
     },
     "output_type": "display_data"
    }
   ],
   "source": [
    "plt.figure()\n",
    "plt.plot(mystery.x6,mystery.y6,\"o\")\n",
    "plt.show()"
   ]
  },
  {
   "cell_type": "code",
   "execution_count": 31,
   "metadata": {},
   "outputs": [
    {
     "data": {
      "image/png": "[encoded data removed]",
      "text/plain": [
       "<Figure size 432x288 with 1 Axes>"
      ]
     },
     "metadata": {
      "needs_background": "light"
     },
     "output_type": "display_data"
    }
   ],
   "source": [
    "plt.figure()\n",
    "plt.plot(mystery.x6,mystery.x1,\"o\")\n",
    "plt.show()"
   ]
  },
  {
   "cell_type": "code",
   "execution_count": 32,
   "metadata": {},
   "outputs": [
    {
     "data": {
      "image/png": "[encoded data removed]",
      "text/plain": [
       "<Figure size 432x288 with 1 Axes>"
      ]
     },
     "metadata": {
      "needs_background": "light"
     },
     "output_type": "display_data"
    }
   ],
   "source": [
    "plt.figure()\n",
    "plt.plot(mystery.x6,mystery.x2,\"o\")\n",
    "plt.show()"
   ]
  },
  {
   "cell_type": "code",
   "execution_count": 33,
   "metadata": {},
   "outputs": [
    {
     "data": {
      "image/png": "[encoded data removed]",
      "text/plain": [
       "<Figure size 432x288 with 1 Axes>"
      ]
     },
     "metadata": {
      "needs_background": "light"
     },
     "output_type": "display_data"
    }
   ],
   "source": [
    "plt.figure()\n",
    "plt.plot(mystery.x6,mystery.x3,\"o\")\n",
    "plt.show()"
   ]
  },
  {
   "cell_type": "code",
   "execution_count": 34,
   "metadata": {},
   "outputs": [
    {
     "data": {
      "image/png": "[encoded data removed]",
      "text/plain": [
       "<Figure size 432x288 with 1 Axes>"
      ]
     },
     "metadata": {
      "needs_background": "light"
     },
     "output_type": "display_data"
    }
   ],
   "source": [
    "plt.figure()\n",
    "plt.plot(mystery.x6,mystery.x4,\"o\")\n",
    "plt.show()"
   ]
  },
  {
   "cell_type": "code",
   "execution_count": 35,
   "metadata": {
    "scrolled": true
   },
   "outputs": [
    {
     "data": {
      "image/png": "[encoded data removed]",
      "text/plain": [
       "<Figure size 432x288 with 1 Axes>"
      ]
     },
     "metadata": {
      "needs_background": "light"
     },
     "output_type": "display_data"
    }
   ],
   "source": [
    "plt.figure()\n",
    "plt.plot(mystery.x6,mystery.x5,\"o\")\n",
    "plt.show()"
   ]
  },
  {
   "cell_type": "code",
   "execution_count": 36,
   "metadata": {},
   "outputs": [
    {
     "data": {
      "image/png": "[encoded data removed]",
      "text/plain": [
       "<Figure size 432x288 with 1 Axes>"
      ]
     },
     "metadata": {
      "needs_background": "light"
     },
     "output_type": "display_data"
    }
   ],
   "source": [
    "plt.figure()\n",
    "plt.plot(mystery.x6,mystery.x6,\"o\")\n",
    "plt.show()"
   ]
  }
 ],
 "metadata": {
  "kernelspec": {
   "display_name": "Python 3",
   "language": "python",
   "name": "python3"
  },
  "language_info": {
   "codemirror_mode": {
    "name": "ipython",
    "version": 3
   },
   "file_extension": ".py",
   "mimetype": "text/x-python",
   "name": "python",
   "nbconvert_exporter": "python",
   "pygments_lexer": "ipython3",
   "version": "3.7.3"
  }
 },
 "nbformat": 4,
 "nbformat_minor": 2
}
